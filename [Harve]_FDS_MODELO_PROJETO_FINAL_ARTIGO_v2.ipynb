{
  "nbformat": 4,
  "nbformat_minor": 0,
  "metadata": {
    "colab": {
      "name": "[Harve]_FDS_MODELO_PROJETO_FINAL_ARTIGO_v1.ipynb",
      "provenance": [],
      "collapsed_sections": [
        "lHDac8SiP7LI"
      ],
      "toc_visible": true
    },
    "kernelspec": {
      "name": "python3",
      "display_name": "Python 3"
    }
  },
  "cells": [
    {
      "cell_type": "markdown",
      "metadata": {
        "id": "SND1MuwjwaSF"
      },
      "source": [
        "#**Artigo de conclusão da Formação em Cientista de Dados**"
      ]
    },
    {
      "cell_type": "markdown",
      "metadata": {
        "id": "xUKhND7dxVxR"
      },
      "source": [
        "NOME DO ALUNO: LUIZ ORESTES RUZENE DA SILVA\n",
        "\n",
        "\n"
      ]
    },
    {
      "cell_type": "markdown",
      "metadata": {
        "id": "8GBfGaZXOG8o"
      },
      "source": [
        "TURMA: 6\n"
      ]
    },
    {
      "cell_type": "markdown",
      "metadata": {
        "id": "gcqG_U9Fw9sM"
      },
      "source": [
        "# **Resumo**\n",
        "\n"
      ]
    },
    {
      "cell_type": "markdown",
      "metadata": {
        "id": "0F68MZqfxdyc"
      },
      "source": [
        "Este projeto visa construir um modelo de Deep Learning utilizando Python para que irá prever o comportamento futuro dos preços das ações.\n",
        "\n",
        "Embora prever o preço real de uma ação seja algo muito complexo, podemos construir um modelo que preveja se o preço vai subir ou descer.\n",
        "\n",
        "Neste projeto será utilizado uma rede neural recorrente artificial chamada Long Short Term Memory (LSTM)\n",
        "\n",
        "* **Arquitetura de Redes Neurais Long Short Term Memory (LSTM)**\n",
        "\n",
        "**Precisamos de Memória**\n",
        "\n",
        "Os humanos não começam a pensar do zero a cada segundo. Você entende cada palavra com base em sua compreensão das palavras anteriores. Você não joga tudo fora e começa a pensar de novo a cada palavra que você lê. Seus pensamentos têm persistência.\n",
        "\n",
        "As redes neurais tradicionais não podem fazer isso, o que dificulta sua aplicação para resolver diversos problemas.\n",
        "\n",
        "**Redes neurais recorrentes (RNNs)** resolvem esse problema. São redes com loops, permitindo que as informações persistam.\n",
        "\n",
        "Uma rede neural recorrente pode ser imaginada como múltiplas cópias da mesma rede, cada uma passando uma mensagem a um sucessor.\n",
        "\n",
        "A LSTM possui uma estrutura em cadeia que contém quatro redes neurais e diferentes blocos de memória chamados células.\n",
        "\n",
        "Fonte: https://www.deeplearningbook.com.br/arquitetura-de-redes-neurais-long-short-term-memory/\n",
        "\n"
      ]
    },
    {
      "cell_type": "markdown",
      "metadata": {
        "id": "aL3fZLQ7ZtJu"
      },
      "source": [
        "links:\n",
        "\n",
        "https://www.kdnuggets.com/2018/11/keras-long-short-term-memory-lstm-model-predict-stock-prices.html\n",
        "\n",
        "https://www.youtube.com/watch?v=QIUxPv5PJOY\n",
        "\n"
      ]
    },
    {
      "cell_type": "markdown",
      "metadata": {
        "id": "xHXSTbqxw-ZS"
      },
      "source": [
        "# **Objetivo**"
      ]
    },
    {
      "cell_type": "markdown",
      "metadata": {
        "id": "11xoC1_HOYWC"
      },
      "source": [
        "Prever o preço de fechamento das ações de uma empresa, neste caso utilizaremos a ação do Banco do Brasil SA (BBAS3) utilizando a cotação dos últimos 60 dias.\n"
      ]
    },
    {
      "cell_type": "markdown",
      "metadata": {
        "id": "u0oDPcrHYJ7g"
      },
      "source": [
        "# **Execução do projeto**\n",
        "\n",
        "\n",
        "\n",
        "\n",
        "\n",
        "\n",
        "\n",
        "\n"
      ]
    },
    {
      "cell_type": "markdown",
      "metadata": {
        "id": "NBdfiXTIOiid"
      },
      "source": [
        "Forneça detalhes das etapas e ferramentas para o projeto. Quais bases de dados foram usadas? Quais dados elas continham? Qual foram os critérios de seleção do Modelo, se houver um modelo. \n"
      ]
    },
    {
      "cell_type": "code",
      "metadata": {
        "id": "zWkYgpnPOi5Y",
        "colab": {
          "base_uri": "https://localhost:8080/"
        },
        "outputId": "4dcbfc7d-d109-47a1-9e0b-b5c284027a27"
      },
      "source": [
        "!pip install alpha_vantage"
      ],
      "execution_count": null,
      "outputs": [
        {
          "output_type": "stream",
          "name": "stdout",
          "text": [
            "Collecting alpha_vantage\n",
            "  Downloading alpha_vantage-2.3.1-py3-none-any.whl (31 kB)\n",
            "Requirement already satisfied: requests in /usr/local/lib/python3.7/dist-packages (from alpha_vantage) (2.23.0)\n",
            "Collecting aiohttp\n",
            "  Downloading aiohttp-3.7.4.post0-cp37-cp37m-manylinux2014_x86_64.whl (1.3 MB)\n",
            "\u001b[K     |████████████████████████████████| 1.3 MB 6.1 MB/s \n",
            "\u001b[?25hCollecting yarl<2.0,>=1.0\n",
            "  Downloading yarl-1.6.3-cp37-cp37m-manylinux2014_x86_64.whl (294 kB)\n",
            "\u001b[K     |████████████████████████████████| 294 kB 47.0 MB/s \n",
            "\u001b[?25hRequirement already satisfied: attrs>=17.3.0 in /usr/local/lib/python3.7/dist-packages (from aiohttp->alpha_vantage) (21.2.0)\n",
            "Collecting async-timeout<4.0,>=3.0\n",
            "  Downloading async_timeout-3.0.1-py3-none-any.whl (8.2 kB)\n",
            "Collecting multidict<7.0,>=4.5\n",
            "  Downloading multidict-5.1.0-cp37-cp37m-manylinux2014_x86_64.whl (142 kB)\n",
            "\u001b[K     |████████████████████████████████| 142 kB 59.6 MB/s \n",
            "\u001b[?25hRequirement already satisfied: chardet<5.0,>=2.0 in /usr/local/lib/python3.7/dist-packages (from aiohttp->alpha_vantage) (3.0.4)\n",
            "Requirement already satisfied: typing-extensions>=3.6.5 in /usr/local/lib/python3.7/dist-packages (from aiohttp->alpha_vantage) (3.7.4.3)\n",
            "Requirement already satisfied: idna>=2.0 in /usr/local/lib/python3.7/dist-packages (from yarl<2.0,>=1.0->aiohttp->alpha_vantage) (2.10)\n",
            "Requirement already satisfied: urllib3!=1.25.0,!=1.25.1,<1.26,>=1.21.1 in /usr/local/lib/python3.7/dist-packages (from requests->alpha_vantage) (1.24.3)\n",
            "Requirement already satisfied: certifi>=2017.4.17 in /usr/local/lib/python3.7/dist-packages (from requests->alpha_vantage) (2021.5.30)\n",
            "Installing collected packages: multidict, yarl, async-timeout, aiohttp, alpha-vantage\n",
            "Successfully installed aiohttp-3.7.4.post0 alpha-vantage-2.3.1 async-timeout-3.0.1 multidict-5.1.0 yarl-1.6.3\n"
          ]
        }
      ]
    },
    {
      "cell_type": "markdown",
      "metadata": {
        "id": "OMBMBkkEKpjk"
      },
      "source": [
        "Importando **NumPy** para computação científica, **Matplotlib** para gráficos de plotagem, **Pandas** para auxiliar no carregamento e manipulação de nossos conjuntos de dados, **Math** para funções matemáticas, **Datetime** fornece as classes para manipulação de datas e horas e **Time** provê várias funções relacionadas à tempo."
      ]
    },
    {
      "cell_type": "markdown",
      "metadata": {
        "id": "j82nL4jpKziw"
      },
      "source": [
        "* Importando Bibliotecas"
      ]
    },
    {
      "cell_type": "code",
      "metadata": {
        "id": "2F3P0-o2ZO1e"
      },
      "source": [
        "# Importação e Preparação\n",
        "import time\n",
        "import datetime\n",
        "import numpy as np\n",
        "import pandas as pd\n",
        "from alpha_vantage.timeseries import TimeSeries\n",
        "\n",
        "# Plotagem e visualização\n",
        "import matplotlib.pyplot as plt\n",
        "plt.style.use('fivethirtyeight')\n",
        "\n",
        "# Modelagem\n",
        "import math\n",
        "from sklearn.preprocessing import MinMaxScaler\n",
        "from tensorflow import keras\n",
        "from keras.models import Sequential\n",
        "from keras.layers import Dense, LSTM"
      ],
      "execution_count": null,
      "outputs": []
    },
    {
      "cell_type": "markdown",
      "metadata": {
        "id": "lHDac8SiP7LI"
      },
      "source": [
        "#**Chave de Acesso API Alpha_Vantage**"
      ]
    },
    {
      "cell_type": "code",
      "metadata": {
        "id": "k1GSQqxfP4vK"
      },
      "source": [
        "ALPHAVANTAGE_API_KEY = 'AQWHIPKLC425SXC5'"
      ],
      "execution_count": null,
      "outputs": []
    },
    {
      "cell_type": "markdown",
      "metadata": {
        "id": "UaM0jsBfQEK7"
      },
      "source": [
        "#**Acessando API**"
      ]
    },
    {
      "cell_type": "code",
      "metadata": {
        "id": "3R1JBWtEQDVc"
      },
      "source": [
        "api_key = TimeSeries(key=ALPHAVANTAGE_API_KEY, output_format='pandas')"
      ],
      "execution_count": null,
      "outputs": []
    },
    {
      "cell_type": "markdown",
      "metadata": {
        "id": "HHhB1fAjMniL"
      },
      "source": [
        "* Carregando o conjunto de dados"
      ]
    },
    {
      "cell_type": "code",
      "metadata": {
        "colab": {
          "base_uri": "https://localhost:8080/",
          "height": 455
        },
        "id": "SW5iB5AAQerf",
        "outputId": "3173bb60-a13b-49af-b508-96ff16685b62"
      },
      "source": [
        "# Definir o ticker da ação que deseja prever\n",
        "dados = dados, meta_dados = api_key.get_daily('BBAS3.SAO', outputsize='full')\n",
        "dados"
      ],
      "execution_count": null,
      "outputs": [
        {
          "output_type": "execute_result",
          "data": {
            "text/html": [
              "<div>\n",
              "<style scoped>\n",
              "    .dataframe tbody tr th:only-of-type {\n",
              "        vertical-align: middle;\n",
              "    }\n",
              "\n",
              "    .dataframe tbody tr th {\n",
              "        vertical-align: top;\n",
              "    }\n",
              "\n",
              "    .dataframe thead th {\n",
              "        text-align: right;\n",
              "    }\n",
              "</style>\n",
              "<table border=\"1\" class=\"dataframe\">\n",
              "  <thead>\n",
              "    <tr style=\"text-align: right;\">\n",
              "      <th></th>\n",
              "      <th>1. open</th>\n",
              "      <th>2. high</th>\n",
              "      <th>3. low</th>\n",
              "      <th>4. close</th>\n",
              "      <th>5. volume</th>\n",
              "    </tr>\n",
              "    <tr>\n",
              "      <th>date</th>\n",
              "      <th></th>\n",
              "      <th></th>\n",
              "      <th></th>\n",
              "      <th></th>\n",
              "      <th></th>\n",
              "    </tr>\n",
              "  </thead>\n",
              "  <tbody>\n",
              "    <tr>\n",
              "      <th>2021-09-27</th>\n",
              "      <td>29.26</td>\n",
              "      <td>30.21</td>\n",
              "      <td>29.17</td>\n",
              "      <td>29.87</td>\n",
              "      <td>18689900.0</td>\n",
              "    </tr>\n",
              "    <tr>\n",
              "      <th>2021-09-24</th>\n",
              "      <td>29.27</td>\n",
              "      <td>29.55</td>\n",
              "      <td>29.17</td>\n",
              "      <td>29.22</td>\n",
              "      <td>11986900.0</td>\n",
              "    </tr>\n",
              "    <tr>\n",
              "      <th>2021-09-23</th>\n",
              "      <td>29.51</td>\n",
              "      <td>29.74</td>\n",
              "      <td>29.27</td>\n",
              "      <td>29.45</td>\n",
              "      <td>16136100.0</td>\n",
              "    </tr>\n",
              "    <tr>\n",
              "      <th>2021-09-22</th>\n",
              "      <td>29.00</td>\n",
              "      <td>29.80</td>\n",
              "      <td>28.90</td>\n",
              "      <td>29.38</td>\n",
              "      <td>24515400.0</td>\n",
              "    </tr>\n",
              "    <tr>\n",
              "      <th>2021-09-21</th>\n",
              "      <td>28.48</td>\n",
              "      <td>28.76</td>\n",
              "      <td>28.10</td>\n",
              "      <td>28.71</td>\n",
              "      <td>13645400.0</td>\n",
              "    </tr>\n",
              "    <tr>\n",
              "      <th>...</th>\n",
              "      <td>...</td>\n",
              "      <td>...</td>\n",
              "      <td>...</td>\n",
              "      <td>...</td>\n",
              "      <td>...</td>\n",
              "    </tr>\n",
              "    <tr>\n",
              "      <th>2005-01-07</th>\n",
              "      <td>31.30</td>\n",
              "      <td>31.95</td>\n",
              "      <td>30.75</td>\n",
              "      <td>31.00</td>\n",
              "      <td>76595.0</td>\n",
              "    </tr>\n",
              "    <tr>\n",
              "      <th>2005-01-06</th>\n",
              "      <td>31.69</td>\n",
              "      <td>31.70</td>\n",
              "      <td>30.05</td>\n",
              "      <td>31.30</td>\n",
              "      <td>203688.0</td>\n",
              "    </tr>\n",
              "    <tr>\n",
              "      <th>2005-01-05</th>\n",
              "      <td>32.31</td>\n",
              "      <td>32.31</td>\n",
              "      <td>30.00</td>\n",
              "      <td>31.70</td>\n",
              "      <td>256321.0</td>\n",
              "    </tr>\n",
              "    <tr>\n",
              "      <th>2005-01-04</th>\n",
              "      <td>33.00</td>\n",
              "      <td>33.27</td>\n",
              "      <td>32.20</td>\n",
              "      <td>32.20</td>\n",
              "      <td>332154.0</td>\n",
              "    </tr>\n",
              "    <tr>\n",
              "      <th>2005-01-03</th>\n",
              "      <td>32.52</td>\n",
              "      <td>33.44</td>\n",
              "      <td>32.50</td>\n",
              "      <td>33.00</td>\n",
              "      <td>150523.0</td>\n",
              "    </tr>\n",
              "  </tbody>\n",
              "</table>\n",
              "<p>4127 rows × 5 columns</p>\n",
              "</div>"
            ],
            "text/plain": [
              "            1. open  2. high  3. low  4. close   5. volume\n",
              "date                                                      \n",
              "2021-09-27    29.26    30.21   29.17     29.87  18689900.0\n",
              "2021-09-24    29.27    29.55   29.17     29.22  11986900.0\n",
              "2021-09-23    29.51    29.74   29.27     29.45  16136100.0\n",
              "2021-09-22    29.00    29.80   28.90     29.38  24515400.0\n",
              "2021-09-21    28.48    28.76   28.10     28.71  13645400.0\n",
              "...             ...      ...     ...       ...         ...\n",
              "2005-01-07    31.30    31.95   30.75     31.00     76595.0\n",
              "2005-01-06    31.69    31.70   30.05     31.30    203688.0\n",
              "2005-01-05    32.31    32.31   30.00     31.70    256321.0\n",
              "2005-01-04    33.00    33.27   32.20     32.20    332154.0\n",
              "2005-01-03    32.52    33.44   32.50     33.00    150523.0\n",
              "\n",
              "[4127 rows x 5 columns]"
            ]
          },
          "metadata": {},
          "execution_count": 60
        }
      ]
    },
    {
      "cell_type": "markdown",
      "metadata": {
        "id": "ZlV880sLZEGD"
      },
      "source": [
        "* Renomeando cabeçalho do dataframe"
      ]
    },
    {
      "cell_type": "code",
      "metadata": {
        "colab": {
          "base_uri": "https://localhost:8080/",
          "height": 455
        },
        "id": "ci5znA3KVuoU",
        "outputId": "02ed5881-83c3-482e-abff-d402091f834c"
      },
      "source": [
        "dados = dados.rename(columns = {'1. open': 'Open', '2. high': 'High', '3. low':'Low','4. close':'Close', '5. volume':'Volume'}, inplace = False)\n",
        "df = dados.sort_values(by=['date'])\n",
        "df\n"
      ],
      "execution_count": null,
      "outputs": [
        {
          "output_type": "execute_result",
          "data": {
            "text/html": [
              "<div>\n",
              "<style scoped>\n",
              "    .dataframe tbody tr th:only-of-type {\n",
              "        vertical-align: middle;\n",
              "    }\n",
              "\n",
              "    .dataframe tbody tr th {\n",
              "        vertical-align: top;\n",
              "    }\n",
              "\n",
              "    .dataframe thead th {\n",
              "        text-align: right;\n",
              "    }\n",
              "</style>\n",
              "<table border=\"1\" class=\"dataframe\">\n",
              "  <thead>\n",
              "    <tr style=\"text-align: right;\">\n",
              "      <th></th>\n",
              "      <th>Open</th>\n",
              "      <th>High</th>\n",
              "      <th>Low</th>\n",
              "      <th>Close</th>\n",
              "      <th>Volume</th>\n",
              "    </tr>\n",
              "    <tr>\n",
              "      <th>date</th>\n",
              "      <th></th>\n",
              "      <th></th>\n",
              "      <th></th>\n",
              "      <th></th>\n",
              "      <th></th>\n",
              "    </tr>\n",
              "  </thead>\n",
              "  <tbody>\n",
              "    <tr>\n",
              "      <th>2005-01-03</th>\n",
              "      <td>32.52</td>\n",
              "      <td>33.44</td>\n",
              "      <td>32.50</td>\n",
              "      <td>33.00</td>\n",
              "      <td>150523.0</td>\n",
              "    </tr>\n",
              "    <tr>\n",
              "      <th>2005-01-04</th>\n",
              "      <td>33.00</td>\n",
              "      <td>33.27</td>\n",
              "      <td>32.20</td>\n",
              "      <td>32.20</td>\n",
              "      <td>332154.0</td>\n",
              "    </tr>\n",
              "    <tr>\n",
              "      <th>2005-01-05</th>\n",
              "      <td>32.31</td>\n",
              "      <td>32.31</td>\n",
              "      <td>30.00</td>\n",
              "      <td>31.70</td>\n",
              "      <td>256321.0</td>\n",
              "    </tr>\n",
              "    <tr>\n",
              "      <th>2005-01-06</th>\n",
              "      <td>31.69</td>\n",
              "      <td>31.70</td>\n",
              "      <td>30.05</td>\n",
              "      <td>31.30</td>\n",
              "      <td>203688.0</td>\n",
              "    </tr>\n",
              "    <tr>\n",
              "      <th>2005-01-07</th>\n",
              "      <td>31.30</td>\n",
              "      <td>31.95</td>\n",
              "      <td>30.75</td>\n",
              "      <td>31.00</td>\n",
              "      <td>76595.0</td>\n",
              "    </tr>\n",
              "    <tr>\n",
              "      <th>...</th>\n",
              "      <td>...</td>\n",
              "      <td>...</td>\n",
              "      <td>...</td>\n",
              "      <td>...</td>\n",
              "      <td>...</td>\n",
              "    </tr>\n",
              "    <tr>\n",
              "      <th>2021-09-21</th>\n",
              "      <td>28.48</td>\n",
              "      <td>28.76</td>\n",
              "      <td>28.10</td>\n",
              "      <td>28.71</td>\n",
              "      <td>13645400.0</td>\n",
              "    </tr>\n",
              "    <tr>\n",
              "      <th>2021-09-22</th>\n",
              "      <td>29.00</td>\n",
              "      <td>29.80</td>\n",
              "      <td>28.90</td>\n",
              "      <td>29.38</td>\n",
              "      <td>24515400.0</td>\n",
              "    </tr>\n",
              "    <tr>\n",
              "      <th>2021-09-23</th>\n",
              "      <td>29.51</td>\n",
              "      <td>29.74</td>\n",
              "      <td>29.27</td>\n",
              "      <td>29.45</td>\n",
              "      <td>16136100.0</td>\n",
              "    </tr>\n",
              "    <tr>\n",
              "      <th>2021-09-24</th>\n",
              "      <td>29.27</td>\n",
              "      <td>29.55</td>\n",
              "      <td>29.17</td>\n",
              "      <td>29.22</td>\n",
              "      <td>11986900.0</td>\n",
              "    </tr>\n",
              "    <tr>\n",
              "      <th>2021-09-27</th>\n",
              "      <td>29.26</td>\n",
              "      <td>30.21</td>\n",
              "      <td>29.17</td>\n",
              "      <td>29.87</td>\n",
              "      <td>18689900.0</td>\n",
              "    </tr>\n",
              "  </tbody>\n",
              "</table>\n",
              "<p>4127 rows × 5 columns</p>\n",
              "</div>"
            ],
            "text/plain": [
              "             Open   High    Low  Close      Volume\n",
              "date                                              \n",
              "2005-01-03  32.52  33.44  32.50  33.00    150523.0\n",
              "2005-01-04  33.00  33.27  32.20  32.20    332154.0\n",
              "2005-01-05  32.31  32.31  30.00  31.70    256321.0\n",
              "2005-01-06  31.69  31.70  30.05  31.30    203688.0\n",
              "2005-01-07  31.30  31.95  30.75  31.00     76595.0\n",
              "...           ...    ...    ...    ...         ...\n",
              "2021-09-21  28.48  28.76  28.10  28.71  13645400.0\n",
              "2021-09-22  29.00  29.80  28.90  29.38  24515400.0\n",
              "2021-09-23  29.51  29.74  29.27  29.45  16136100.0\n",
              "2021-09-24  29.27  29.55  29.17  29.22  11986900.0\n",
              "2021-09-27  29.26  30.21  29.17  29.87  18689900.0\n",
              "\n",
              "[4127 rows x 5 columns]"
            ]
          },
          "metadata": {},
          "execution_count": 63
        }
      ]
    },
    {
      "cell_type": "markdown",
      "metadata": {
        "id": "-xbqKUQ4P2vJ"
      },
      "source": [
        "**Open:** é o preço inicial/abertura\n",
        "\n",
        "**Close:** é o preço final de uma ação em um determinado dia de negociação.\n",
        " \n",
        "**High e Low:** representam os preços mais altos e mais baixos de um determinado dia."
      ]
    },
    {
      "cell_type": "markdown",
      "metadata": {
        "id": "RsKpAZJuWetA"
      },
      "source": [
        "* Visualizando o histórico do preço de fechamento da ação"
      ]
    },
    {
      "cell_type": "code",
      "metadata": {
        "colab": {
          "base_uri": "https://localhost:8080/",
          "height": 559
        },
        "id": "Z9PvSpmzS-CE",
        "outputId": "08c40708-deba-4db5-fb89-58eeeea5553f"
      },
      "source": [
        "plt.figure(figsize=(16,8))\n",
        "plt.title('Histórico do Preço de Fechamento')\n",
        "plt.plot(df['Close'])\n",
        "plt.xlabel('Date', fontsize=18)\n",
        "plt.ylabel('Preço de Fechamento em BRL (R$)')\n",
        "plt.show()"
      ],
      "execution_count": null,
      "outputs": [
        {
          "output_type": "display_data",
          "data": {
            "image/png": "[encoded data removed]",
            "text/plain": [
              "<Figure size 1152x576 with 1 Axes>"
            ]
          },
          "metadata": {}
        }
      ]
    },
    {
      "cell_type": "markdown",
      "metadata": {
        "id": "feFdcA48ZuJp"
      },
      "source": [
        "* Divisão de características e rótulo\n"
      ]
    },
    {
      "cell_type": "code",
      "metadata": {
        "colab": {
          "base_uri": "https://localhost:8080/"
        },
        "id": "IjBw_mcWZgPb",
        "outputId": "4925d4c3-cfa1-4fde-ea63-eb1d5f31c496"
      },
      "source": [
        "# Criando um novo dataframe apenas com a coluna 'Close' = Preço de Fechamento\n",
        "data = df.filter(['Close'])\n",
        "# Convertendo o dataframe para numpy array\n",
        "dataset = data.values\n",
        "dataset"
      ],
      "execution_count": null,
      "outputs": [
        {
          "output_type": "execute_result",
          "data": {
            "text/plain": [
              "array([[33.  ],\n",
              "       [32.2 ],\n",
              "       [31.7 ],\n",
              "       ...,\n",
              "       [29.45],\n",
              "       [29.22],\n",
              "       [29.87]])"
            ]
          },
          "metadata": {},
          "execution_count": 65
        }
      ]
    },
    {
      "cell_type": "markdown",
      "metadata": {
        "id": "D0kLekTlyjef"
      },
      "source": [
        "* Definindo o percentual do nosso conjunto de dados que será utilizado para treinamento (80%) e teste (20%)"
      ]
    },
    {
      "cell_type": "code",
      "metadata": {
        "colab": {
          "base_uri": "https://localhost:8080/"
        },
        "id": "GsS3WcBjyhfo",
        "outputId": "800449aa-3ad5-47ae-c2e2-1d3517a39490"
      },
      "source": [
        "# Vamos utilizar 80% dos nossos dados para treinar o modelo e 20% para testar\n",
        "training_data_len = math.ceil(len(dataset)*0.8)\n",
        "training_data_len"
      ],
      "execution_count": null,
      "outputs": [
        {
          "output_type": "execute_result",
          "data": {
            "text/plain": [
              "3302"
            ]
          },
          "metadata": {},
          "execution_count": 66
        }
      ]
    },
    {
      "cell_type": "markdown",
      "metadata": {
        "id": "Tu1UbsmdU95e"
      },
      "source": [
        "* Normalizando os dados do dataframe"
      ]
    },
    {
      "cell_type": "markdown",
      "metadata": {
        "id": "pKHmHdgpVPby"
      },
      "source": [
        "O objetivo da normalização é alterar os valores das colunas numéricas no conjunto de dados para uma escala comum, sem distorcer as diferenças nos intervalos de valores.\n",
        "\n",
        "Em nosso projeto com a normalizar os dados esperamos que o modelo venha a performar melhor.\n",
        "\n",
        "Usaremos o MinMaxScaler do Scikit-Learn e dimensionar nosso conjunto de dados para números entre zero e um.\n",
        "\n",
        "https://medium.com/tentando-ser-um-unic%C3%B3rnio/porqu%C3%AA-e-quando-%C3%A9-necess%C3%A1rio-normalizar-os-dados-92e5cce445aa"
      ]
    },
    {
      "cell_type": "code",
      "metadata": {
        "id": "i40_ZLCHVOY7",
        "colab": {
          "base_uri": "https://localhost:8080/"
        },
        "outputId": "6e9958d5-98a7-4d09-c939-108bea60c4a4"
      },
      "source": [
        "# Dimensionando os atributos em um intervalo entre 0 e 1\n",
        "scaler = MinMaxScaler(feature_range=(0,1))\n",
        "scaled_data = scaler.fit_transform(dataset)\n",
        "scaled_data"
      ],
      "execution_count": null,
      "outputs": [
        {
          "output_type": "execute_result",
          "data": {
            "text/plain": [
              "array([[0.30094787],\n",
              "       [0.28979649],\n",
              "       [0.28282687],\n",
              "       ...,\n",
              "       [0.25146362],\n",
              "       [0.2482576 ],\n",
              "       [0.25731809]])"
            ]
          },
          "metadata": {},
          "execution_count": 68
        }
      ]
    },
    {
      "cell_type": "markdown",
      "metadata": {
        "id": "Fjae_6wtxUoZ"
      },
      "source": [
        "* Criando o conjunto de dados de treinamento"
      ]
    },
    {
      "cell_type": "code",
      "metadata": {
        "id": "Zhs540ieU9WG",
        "colab": {
          "base_uri": "https://localhost:8080/"
        },
        "outputId": "7aa6cd3c-846a-400c-ae3a-7bc9ff1138f3"
      },
      "source": [
        "# Selecionando os dados de 'Scaled_data' do index 0 até traing_data range e todas as colunas.\n",
        "train_data = scaled_data[0:training_data_len, :]\n",
        "\n",
        "# Dividindo o conjunto de dados entre x_train and y_train\n",
        "# Listas vazias\n",
        "x_train = [] \n",
        "y_train = []\n",
        "\n",
        "for i in range(60, len(train_data)):\n",
        "  x_train.append(train_data[i-60:i, 0]) # Contém os últimos 60 valores (index 0 ~ 59)\n",
        "  y_train.append(train_data[i, 0]) # Valor que queremos prever, neste caso seria o 61º valor\n",
        "  if i<=61:\n",
        "    print(x_train) \n",
        "    print(y_train) \n",
        "    print()\n",
        "# No resultado abaixo podemos verificar 2 loops o 1º com valor <=60 e posteriormente <=61"
      ],
      "execution_count": null,
      "outputs": [
        {
          "output_type": "stream",
          "name": "stdout",
          "text": [
            "[array([0.30094787, 0.28979649, 0.28282687, 0.27725118, 0.27306942,\n",
            "       0.26191804, 0.26331196, 0.2660998 , 0.26554224, 0.27306942,\n",
            "       0.27167549, 0.2751603 , 0.28840256, 0.27446334, 0.2660998 ,\n",
            "       0.27725118, 0.27836632, 0.27028157, 0.26400892, 0.27167549,\n",
            "       0.26024533, 0.28282687, 0.2967661 , 0.31781433, 0.3218567 ,\n",
            "       0.32046278, 0.31767494, 0.30791748, 0.33579593, 0.32896571,\n",
            "       0.34276554, 0.35670477, 0.33732924, 0.30722052, 0.28868135,\n",
            "       0.29955394, 0.28854196, 0.27306942, 0.2662392 , 0.27028157,\n",
            "       0.27404516, 0.27725118, 0.29760245, 0.30234179, 0.29119041,\n",
            "       0.30094787, 0.2967661 , 0.28909953, 0.2842208 , 0.27864511,\n",
            "       0.28700864, 0.28561472, 0.27752997, 0.26749373, 0.25202119,\n",
            "       0.25494842, 0.23752439, 0.22916086, 0.24226373, 0.2535545 ])]\n",
            "[0.25564538611653187]\n",
            "\n",
            "[array([0.30094787, 0.28979649, 0.28282687, 0.27725118, 0.27306942,\n",
            "       0.26191804, 0.26331196, 0.2660998 , 0.26554224, 0.27306942,\n",
            "       0.27167549, 0.2751603 , 0.28840256, 0.27446334, 0.2660998 ,\n",
            "       0.27725118, 0.27836632, 0.27028157, 0.26400892, 0.27167549,\n",
            "       0.26024533, 0.28282687, 0.2967661 , 0.31781433, 0.3218567 ,\n",
            "       0.32046278, 0.31767494, 0.30791748, 0.33579593, 0.32896571,\n",
            "       0.34276554, 0.35670477, 0.33732924, 0.30722052, 0.28868135,\n",
            "       0.29955394, 0.28854196, 0.27306942, 0.2662392 , 0.27028157,\n",
            "       0.27404516, 0.27725118, 0.29760245, 0.30234179, 0.29119041,\n",
            "       0.30094787, 0.2967661 , 0.28909953, 0.2842208 , 0.27864511,\n",
            "       0.28700864, 0.28561472, 0.27752997, 0.26749373, 0.25202119,\n",
            "       0.25494842, 0.23752439, 0.22916086, 0.24226373, 0.2535545 ]), array([0.28979649, 0.28282687, 0.27725118, 0.27306942, 0.26191804,\n",
            "       0.26331196, 0.2660998 , 0.26554224, 0.27306942, 0.27167549,\n",
            "       0.2751603 , 0.28840256, 0.27446334, 0.2660998 , 0.27725118,\n",
            "       0.27836632, 0.27028157, 0.26400892, 0.27167549, 0.26024533,\n",
            "       0.28282687, 0.2967661 , 0.31781433, 0.3218567 , 0.32046278,\n",
            "       0.31767494, 0.30791748, 0.33579593, 0.32896571, 0.34276554,\n",
            "       0.35670477, 0.33732924, 0.30722052, 0.28868135, 0.29955394,\n",
            "       0.28854196, 0.27306942, 0.2662392 , 0.27028157, 0.27404516,\n",
            "       0.27725118, 0.29760245, 0.30234179, 0.29119041, 0.30094787,\n",
            "       0.2967661 , 0.28909953, 0.2842208 , 0.27864511, 0.28700864,\n",
            "       0.28561472, 0.27752997, 0.26749373, 0.25202119, 0.25494842,\n",
            "       0.23752439, 0.22916086, 0.24226373, 0.2535545 , 0.25564539])]\n",
            "[0.25564538611653187, 0.24351826038472255]\n",
            "\n"
          ]
        }
      ]
    },
    {
      "cell_type": "markdown",
      "metadata": {
        "id": "Pkk-Vwq37oU8"
      },
      "source": [
        "* Convertendo x_train e y_train em Numpy array"
      ]
    },
    {
      "cell_type": "code",
      "metadata": {
        "id": "fAYH-0nz4elZ"
      },
      "source": [
        "x_train, y_train = np. array(x_train), np.array(y_train)"
      ],
      "execution_count": null,
      "outputs": []
    },
    {
      "cell_type": "markdown",
      "metadata": {
        "id": "4MxX306WwKY4"
      },
      "source": [
        "* LSTM Model requisita que os dados sejam 3D e os dados atuais são 2D.\n"
      ]
    },
    {
      "cell_type": "code",
      "metadata": {
        "colab": {
          "base_uri": "https://localhost:8080/"
        },
        "id": "5hD3XmO_7k2z",
        "outputId": "f64512db-9ae7-4505-ff0e-5b1e56692235"
      },
      "source": [
        "x_train.shape"
      ],
      "execution_count": null,
      "outputs": [
        {
          "output_type": "execute_result",
          "data": {
            "text/plain": [
              "(3242, 60)"
            ]
          },
          "metadata": {},
          "execution_count": 72
        }
      ]
    },
    {
      "cell_type": "code",
      "metadata": {
        "colab": {
          "base_uri": "https://localhost:8080/"
        },
        "id": "pzhije3y4hZV",
        "outputId": "1314805b-abd9-4950-d477-59439ede31f6"
      },
      "source": [
        "# Transformando os dados de 2D para 3D\n",
        "x_train = np.reshape(x_train, (x_train.shape[0], x_train.shape[1],1))\n",
        "x_train.shape"
      ],
      "execution_count": null,
      "outputs": [
        {
          "output_type": "execute_result",
          "data": {
            "text/plain": [
              "(3242, 60, 1)"
            ]
          },
          "metadata": {},
          "execution_count": 73
        }
      ]
    },
    {
      "cell_type": "markdown",
      "metadata": {
        "id": "RBiPhbjJ8Nkn"
      },
      "source": [
        "* Construindo o Modelo LSTM (Long and Short Term Memory)"
      ]
    },
    {
      "cell_type": "markdown",
      "metadata": {
        "id": "e5ICQD5WNVVh"
      },
      "source": [
        "https://keras.io/guides/sequential_model/\n",
        "\n",
        "https://www.tensorflow.org/api_docs/python/tf/keras/layers/LSTM\n",
        "\n",
        "https://keras.io/api/layers/core_layers/dense/\n",
        "\n"
      ]
    },
    {
      "cell_type": "code",
      "metadata": {
        "id": "qydgNUQMLO5N"
      },
      "source": [
        "# Importando bibliotecas\n",
        "from tensorflow import keras\n",
        "from keras.models import Sequential\n",
        "from keras.layers import Dense, LSTM"
      ],
      "execution_count": null,
      "outputs": []
    },
    {
      "cell_type": "code",
      "metadata": {
        "id": "IFMT_ra54mW8"
      },
      "source": [
        "# Definindo o modelo\n",
        "model = Sequential()\n",
        "# Adionando Leyer ao modelo\n",
        "model.add(LSTM(50, return_sequences=True, input_shape= (x_train.shape[1],1)))\n",
        "model.add(LSTM(50, return_sequences=False))\n",
        "model.add(Dense(25))\n",
        "model.add(Dense(1))"
      ],
      "execution_count": null,
      "outputs": []
    },
    {
      "cell_type": "markdown",
      "metadata": {
        "id": "hLVYZRuTPuAA"
      },
      "source": [
        "* Compilando o modelo e adicionando um otimizador (Adam) e função de perda (Mean Squared Error)"
      ]
    },
    {
      "cell_type": "markdown",
      "metadata": {
        "id": "CBF7f4RYQPZg"
      },
      "source": [
        "https://machinelearningmastery.com/adam-optimization-algorithm-for-deep-learning/"
      ]
    },
    {
      "cell_type": "code",
      "metadata": {
        "id": "cJudiK7iPtHD"
      },
      "source": [
        "# Compile the model\n",
        "model.compile(optimizer='adam', loss='mean_squared_error')"
      ],
      "execution_count": null,
      "outputs": []
    },
    {
      "cell_type": "markdown",
      "metadata": {
        "id": "EYzKwd9aQrlP"
      },
      "source": [
        "* Treinando o modelo"
      ]
    },
    {
      "cell_type": "code",
      "metadata": {
        "colab": {
          "base_uri": "https://localhost:8080/"
        },
        "id": "kDNc2T1mQtsY",
        "outputId": "a25ec60c-b098-47f7-a2a4-470feed962e9"
      },
      "source": [
        "# Train the model\n",
        "model.fit(x_train, y_train, batch_size=1, epochs=1)"
      ],
      "execution_count": null,
      "outputs": [
        {
          "output_type": "stream",
          "name": "stdout",
          "text": [
            "3242/3242 [==============================] - 100s 30ms/step - loss: 0.0024\n"
          ]
        },
        {
          "output_type": "execute_result",
          "data": {
            "text/plain": [
              "<keras.callbacks.History at 0x7f651a3d5650>"
            ]
          },
          "metadata": {},
          "execution_count": 77
        }
      ]
    },
    {
      "cell_type": "markdown",
      "metadata": {
        "id": "z1x3x0yRSUPp"
      },
      "source": [
        "* Criando o conjunto de dados de teste"
      ]
    },
    {
      "cell_type": "code",
      "metadata": {
        "id": "1VsXFU43QWH_"
      },
      "source": [
        "# Criando um novo array considerando os valores do index 3241 - 60 até 4127\n",
        "test_data = scaled_data[training_data_len -60:, :]  \n",
        "# Criando um novo conjunto de dados para x_test e y_test\n",
        "x_test=[]\n",
        "y_test = dataset[training_data_len:, :]\n",
        "\n",
        "for i in range(60, len(test_data)):\n",
        "  x_test.append(test_data[i-60:i, 0])"
      ],
      "execution_count": null,
      "outputs": []
    },
    {
      "cell_type": "markdown",
      "metadata": {
        "id": "KXeS58eiTk-Y"
      },
      "source": [
        "* Convertendo x_test e y_test em Numpy array"
      ]
    },
    {
      "cell_type": "code",
      "metadata": {
        "id": "2kok_Ry-Tap1"
      },
      "source": [
        "x_test = np.array(x_test)"
      ],
      "execution_count": null,
      "outputs": []
    },
    {
      "cell_type": "markdown",
      "metadata": {
        "id": "X7kvo7j5Tt4z"
      },
      "source": [
        "* LSTM Model requisita que os dados sejam 3D e os dados atuais são 2D."
      ]
    },
    {
      "cell_type": "code",
      "metadata": {
        "id": "FrZXTqGQTbMl"
      },
      "source": [
        "x_test = np.reshape(x_test, (x_test.shape[0], x_test.shape[1],1))"
      ],
      "execution_count": null,
      "outputs": []
    },
    {
      "cell_type": "markdown",
      "metadata": {
        "id": "1hj9sAa8T0Mj"
      },
      "source": [
        "* Prever novas amostras"
      ]
    },
    {
      "cell_type": "code",
      "metadata": {
        "id": "fx6UgNGFTfNj"
      },
      "source": [
        "# Obtendo o preços da ação previsto no modelo\n",
        "predictions = model.predict(x_test)\n",
        "predictions = scaler.inverse_transform(predictions)"
      ],
      "execution_count": null,
      "outputs": []
    },
    {
      "cell_type": "markdown",
      "metadata": {
        "id": "U_fZJ-CGUa4j"
      },
      "source": [
        "* Avaliando o resultado do modelo"
      ]
    },
    {
      "cell_type": "markdown",
      "metadata": {
        "id": "zt71LHEpUvZV"
      },
      "source": [
        "**Raiz do Erro Quadrático Médio (RMSE)**\n",
        "\n",
        "https://scikit-learn.org/stable/modules/model_evaluation.html#mean-squared-error\n",
        "\n",
        "https://www.linkedin.com/pulse/rmse-ou-mae-como-avaliar-meu-modelo-de-machine-learning-rezende/?originalSubdomain=pt"
      ]
    },
    {
      "cell_type": "code",
      "metadata": {
        "colab": {
          "base_uri": "https://localhost:8080/"
        },
        "id": "jVNEuZOcUbbP",
        "outputId": "32164577-d112-4807-d68b-c2c4b8c75623"
      },
      "source": [
        "# RMSE Index: quanto menor o resultado melhor\n",
        "\n",
        "# Passa os valores reais utilizados para teste e os valores previstos pelo modelo\n",
        "rmse = np.sqrt(np.mean(predictions - y_test)**2)\n",
        "print(\"RMSE é\", rmse)"
      ],
      "execution_count": null,
      "outputs": [
        {
          "output_type": "stream",
          "name": "stdout",
          "text": [
            "RMSE é 0.8203243075284092\n"
          ]
        }
      ]
    },
    {
      "cell_type": "markdown",
      "metadata": {
        "id": "Z3Sh6pc2WNQG"
      },
      "source": [
        "* Visualizando o resultado do modelo de predição"
      ]
    },
    {
      "cell_type": "code",
      "metadata": {
        "colab": {
          "base_uri": "https://localhost:8080/"
        },
        "id": "BkWh1aVPWODX",
        "outputId": "24dbc33a-82c7-459f-947c-b50c1943c9f2"
      },
      "source": [
        "# Plotar dados\n",
        "train = data[:training_data_len]\n",
        "valid= data[training_data_len:]\n",
        "valid['Predictions'] = predictions"
      ],
      "execution_count": null,
      "outputs": [
        {
          "output_type": "stream",
          "name": "stderr",
          "text": [
            "/usr/local/lib/python3.7/dist-packages/ipykernel_launcher.py:4: SettingWithCopyWarning: \n",
            "A value is trying to be set on a copy of a slice from a DataFrame.\n",
            "Try using .loc[row_indexer,col_indexer] = value instead\n",
            "\n",
            "See the caveats in the documentation: https://pandas.pydata.org/pandas-docs/stable/user_guide/indexing.html#returning-a-view-versus-a-copy\n",
            "  after removing the cwd from sys.path.\n"
          ]
        }
      ]
    },
    {
      "cell_type": "code",
      "metadata": {
        "colab": {
          "base_uri": "https://localhost:8080/",
          "height": 558
        },
        "id": "ga05Iic0WSJ-",
        "outputId": "404ba8f7-6c69-4626-b44c-fa25f77b7048"
      },
      "source": [
        "# Visualizar gráfico\n",
        "plt.figure(figsize=(16,8))\n",
        "plt.title('Model de Predição de Preço de Fechamento - BBAS3')\n",
        "plt.xlabel('Date', fontsize=18)\n",
        "plt.ylabel('Preço de Fechamento em BRL (R$)')\n",
        "plt.plot(train['Close'])\n",
        "plt.plot(valid[['Close', 'Predictions']])\n",
        "plt.legend(['Treinamento', 'Valor Real', 'Predição'], loc='lower right')\n",
        "plt.show()"
      ],
      "execution_count": null,
      "outputs": [
        {
          "output_type": "display_data",
          "data": {
            "image/png": "[encoded data removed]",
            "text/plain": [
              "<Figure size 1152x576 with 1 Axes>"
            ]
          },
          "metadata": {}
        }
      ]
    },
    {
      "cell_type": "code",
      "metadata": {
        "colab": {
          "base_uri": "https://localhost:8080/",
          "height": 455
        },
        "id": "vTiiSeYuXaET",
        "outputId": "b2e96d9e-0cb4-4d56-e0bc-bd62438552f5"
      },
      "source": [
        "# Show the valid and predicted pricess\n",
        "valid"
      ],
      "execution_count": null,
      "outputs": [
        {
          "output_type": "execute_result",
          "data": {
            "text/html": [
              "<div>\n",
              "<style scoped>\n",
              "    .dataframe tbody tr th:only-of-type {\n",
              "        vertical-align: middle;\n",
              "    }\n",
              "\n",
              "    .dataframe tbody tr th {\n",
              "        vertical-align: top;\n",
              "    }\n",
              "\n",
              "    .dataframe thead th {\n",
              "        text-align: right;\n",
              "    }\n",
              "</style>\n",
              "<table border=\"1\" class=\"dataframe\">\n",
              "  <thead>\n",
              "    <tr style=\"text-align: right;\">\n",
              "      <th></th>\n",
              "      <th>Close</th>\n",
              "      <th>Predictions</th>\n",
              "    </tr>\n",
              "    <tr>\n",
              "      <th>date</th>\n",
              "      <th></th>\n",
              "      <th></th>\n",
              "    </tr>\n",
              "  </thead>\n",
              "  <tbody>\n",
              "    <tr>\n",
              "      <th>2018-05-29</th>\n",
              "      <td>28.51</td>\n",
              "      <td>30.536148</td>\n",
              "    </tr>\n",
              "    <tr>\n",
              "      <th>2018-05-30</th>\n",
              "      <td>30.37</td>\n",
              "      <td>29.860498</td>\n",
              "    </tr>\n",
              "    <tr>\n",
              "      <th>2018-06-01</th>\n",
              "      <td>30.66</td>\n",
              "      <td>29.723469</td>\n",
              "    </tr>\n",
              "    <tr>\n",
              "      <th>2018-06-04</th>\n",
              "      <td>31.10</td>\n",
              "      <td>29.848627</td>\n",
              "    </tr>\n",
              "    <tr>\n",
              "      <th>2018-06-05</th>\n",
              "      <td>29.12</td>\n",
              "      <td>30.113585</td>\n",
              "    </tr>\n",
              "    <tr>\n",
              "      <th>...</th>\n",
              "      <td>...</td>\n",
              "      <td>...</td>\n",
              "    </tr>\n",
              "    <tr>\n",
              "      <th>2021-09-21</th>\n",
              "      <td>28.71</td>\n",
              "      <td>28.896950</td>\n",
              "    </tr>\n",
              "    <tr>\n",
              "      <th>2021-09-22</th>\n",
              "      <td>29.38</td>\n",
              "      <td>28.772396</td>\n",
              "    </tr>\n",
              "    <tr>\n",
              "      <th>2021-09-23</th>\n",
              "      <td>29.45</td>\n",
              "      <td>28.836231</td>\n",
              "    </tr>\n",
              "    <tr>\n",
              "      <th>2021-09-24</th>\n",
              "      <td>29.22</td>\n",
              "      <td>28.965235</td>\n",
              "    </tr>\n",
              "    <tr>\n",
              "      <th>2021-09-27</th>\n",
              "      <td>29.87</td>\n",
              "      <td>29.047050</td>\n",
              "    </tr>\n",
              "  </tbody>\n",
              "</table>\n",
              "<p>825 rows × 2 columns</p>\n",
              "</div>"
            ],
            "text/plain": [
              "            Close  Predictions\n",
              "date                          \n",
              "2018-05-29  28.51    30.536148\n",
              "2018-05-30  30.37    29.860498\n",
              "2018-06-01  30.66    29.723469\n",
              "2018-06-04  31.10    29.848627\n",
              "2018-06-05  29.12    30.113585\n",
              "...           ...          ...\n",
              "2021-09-21  28.71    28.896950\n",
              "2021-09-22  29.38    28.772396\n",
              "2021-09-23  29.45    28.836231\n",
              "2021-09-24  29.22    28.965235\n",
              "2021-09-27  29.87    29.047050\n",
              "\n",
              "[825 rows x 2 columns]"
            ]
          },
          "metadata": {},
          "execution_count": 85
        }
      ]
    },
    {
      "cell_type": "markdown",
      "metadata": {
        "id": "N3lUHP1acfdT"
      },
      "source": [
        "* Qual seria a previsão do preço de fechamento da ação do Banco do Brasil (BBAS3) no dia 28/09/2021"
      ]
    },
    {
      "cell_type": "code",
      "metadata": {
        "colab": {
          "base_uri": "https://localhost:8080/"
        },
        "id": "O8txW516axFh",
        "outputId": "d6cbb13f-7340-4e25-873e-170cc29d2bfc"
      },
      "source": [
        "# Rodar o modelo de predição do preço de fechamento da ação BBAS3 para o dia 28/09/2021\n",
        "\n",
        "# Definir o ticker da ação que deseja prever\n",
        "dados = dados, meta_dados = api_key.get_daily('BBAS3.SAO', outputsize='full')\n",
        "\n",
        "# Renomeando cabeçalho do dataframe\n",
        "dados = dados.rename(columns = {'1. open': 'Open', '2. high': 'High', '3. low':'Low','4. close':'Close', '5. volume':'Volume'}, inplace = False)\n",
        "\n",
        "# Classicando o dataset por data crescente\n",
        "df = dados.sort_values(by=['date'])\n",
        "\n",
        "# Criando um novo dataframe apenas com a coluna 'Close' = Preço de Fechamento\n",
        "data = df.filter(['Close'])\n",
        "\n",
        "# Convertendo o dataframe para numpy array\n",
        "#dataset = data.values\n",
        "\n",
        "# Obter o preço de fechamento dos últimos 60 dias e converter o datafram em um array\n",
        "last_60_days = data[-60:].values\n",
        "# Normalizar os dados\n",
        "last_60_days_scaled = scaler.transform(last_60_days)\n",
        "# Criar uma lista vazia\n",
        "X_test = []\n",
        "# Concatenar com os últimos 60 dias\n",
        "X_test.append(last_60_days_scaled)\n",
        "# Converter o conjunto de dados de X_test para numpy array\n",
        "X_test = np.array(X_test)\n",
        "# Transformar os dados de 2D para 3D\n",
        "X_test = np.reshape(X_test, (X_test.shape[0], X_test.shape[1],1))\n",
        "# Obtenha o preço previsto em escala\n",
        "pred_price = model.predict(X_test)\n",
        "# Desfazer a escala\n",
        "pred_price = scaler.inverse_transform(pred_price)\n",
        "print(pred_price)"
      ],
      "execution_count": null,
      "outputs": [
        {
          "output_type": "stream",
          "name": "stdout",
          "text": [
            "[[29.214901]]\n"
          ]
        }
      ]
    },
    {
      "cell_type": "markdown",
      "metadata": {
        "id": "HHHQiLzVlLx6"
      },
      "source": [
        "# **Conclusões**\n",
        "\n"
      ]
    },
    {
      "cell_type": "markdown",
      "metadata": {
        "id": "msgxJmzxQk8b"
      },
      "source": [
        "Com base nos resultados apresentados pelo modelo considerando a métrica de avaliação adotada o RSME, cujo resultado foi de 0.82, nos leva a crer que conseguimos atingir um bom resultado.\n",
        "Quando avaliamos o resultado do modelo de predição sobre a base de teste nos últimos 5 dias (21/09~27/09) a variação média entre o preço real vs. o preço previsto ficou 0,43 centavos, ou seja, uma variação média percentual de 1,5%. Acredito que este resultado pode contribuir bastante no gerenciamento de risco em determinadas estratégias.\n",
        "Nunca é demais deixar o \"disclaimer\" de que este modelo em hipótese alguma, deve ser utilizado como forma única para tomada de decisão no mercado financeiro.\n",
        "Entretanto, pude perceber o poder das ferramentas de Machine Learning/Deep Learninig e como posso aplica-las em diferentes problemas.\n",
        "Em resumo, pretendo seguir na evolução deste modelo adicionando a esta análise novos modelos que incluam indicadores de análise técnica, a fim de indicar tendência, momentum e até mesmo viés de compra ou venda. Informações estas que possam auxiliar na tomada de decisão. \n"
      ]
    },
    {
      "cell_type": "code",
      "metadata": {
        "id": "RqHilTm2ab59"
      },
      "source": [
        ""
      ],
      "execution_count": null,
      "outputs": []
    },
    {
      "cell_type": "markdown",
      "metadata": {
        "id": "TFagwvY6O55G"
      },
      "source": [
        "# **Referências e Notebooks**"
      ]
    },
    {
      "cell_type": "markdown",
      "metadata": {
        "id": "tDrz8UcvWUUv"
      },
      "source": [
        "[API Alpha Vantage]\n",
        "\n",
        "https://www.youtube.com/watch?v=kB4jCoVyLRI\n",
        "\n",
        "[LSTM Model]\n",
        "\n",
        "https://www.deeplearningbook.com.br/arquitetura-de-redes-neurais-long-short-term-memory/\n",
        "\n",
        "https://medium.com/turing-talks/turing-talks-27-modelos-de-predi%C3%A7%C3%A3o-lstm-df85d87ad210\n",
        "\n",
        "https://www.monolitonimbus.com.br/machine-learning-de-series-temporais-lstm/\n",
        "\n",
        "https://www.kdnuggets.com/2018/11/keras-long-short-term-memory-lstm-model-predict-stock-prices.html\n",
        "\n",
        "https://www.youtube.com/watch?v=QIUxPv5PJOY\n",
        "\n",
        "https://www.ti-enxame.com/pt/deep-learning/por-que-o-tamanho-do-lote-de-keras-lstm-usado-para-previsao-tem-que-ser-o-mesmo-que-o-tamanho-do-lote-de-ajuste/832473565/\n",
        "\n",
        "[Tensorflow]\n",
        "\n",
        "https://www.tensorflow.org/api_docs/python/tf/keras/layers/LSTM\n",
        "\n",
        "\n",
        "[Keras]\n",
        "\n",
        "https://keras.io/guides/sequential_model/\n",
        "\n",
        "https://keras.io/api/layers/recurrent_layers/lstm/\n",
        "\n",
        "https://keras.io/api/layers/core_layers/dense/\n",
        "\n",
        "\n",
        "[Adam Optimization Algorithm for Deep Learning]\n",
        "\n",
        "https://machinelearningmastery.com/adam-optimization-algorithm-for-deep-learning/\n",
        "\n",
        "[Raiz do Erro Quadrático Médio (RMSE)]\n",
        "\n",
        "https://www.linkedin.com/pulse/rmse-ou-mae-como-avaliar-meu-modelo-de-machine-learning-rezende/?originalSubdomain=pt\n",
        "\n",
        "\n",
        "https://paulovasconcellos.com.br/como-saber-se-seu-modelo-de-machine-learning-est%C3%A1-funcionando-mesmo-a5892f6468b\n",
        "\n",
        "https://scikit-learn.org/stable/modules/model_evaluation.html#mean-squared-error\n",
        "\n",
        "https://www.kite.com/python/answers/how-to-take-root-mean-square-error-(rmse)-in-python#:~:text=Call%20sklearn.,squared%20error%20of%20the%20data.&text=sqrt(number)%20with%20number%20as,the%20RMSE%20of%20the%20data\n"
      ]
    },
    {
      "cell_type": "markdown",
      "metadata": {
        "id": "6dT68k37PAfI"
      },
      "source": [
        "Notebook do Projeto, disponível em: www.site.com.br\n"
      ]
    }
  ]
}